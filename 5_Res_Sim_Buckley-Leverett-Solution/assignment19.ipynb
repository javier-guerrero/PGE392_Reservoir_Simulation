{
 "cells": [
  {
   "cell_type": "markdown",
   "metadata": {},
   "source": [
    "# Homework Assignment 19\n",
    "\n",
    "We are going to develop a validation (i.e. test) for the multiphase flow simulator we are going to write in the next assignment. We will validate our multiphase flow simulator against the semi-anatlyical Buckley-Leverret solution. Take a look at the class template below, several functions are implemented already, most importantly one called `compute_saturation_profile()`, this function uses the relative permeability properties and Corey-Brooks model to plot the (inadmisable) full saturation profile.  Of course, this profile doesn't take into account the discontinuous shock front of the water displacing the oil in the Buckley-Leverrett problem correctly.  Comparing the mass balance accross the shock-front with the continuum conservation of mass equation leads to an equation\n",
    "\n",
    "$$\n",
    "\\frac{f(S_{wf})}{S_{wf} - S_{wi}} - \\frac{\\partial f(S_{wf})}{\\partial S} = 0\n",
    "$$\n",
    "\n",
    "where $f$ is the fractional flow equation, $S_{wi}$ is the initial water saturation, and $S_{wf}$ is the saturation at the shock front.  This equation can be solved numerically for $S_{wf}$.  Write a function called `compute_saturation_front()` that solves for $S_{wf}$.  My advice is to use the `scipy.optimize.brenth()` function for the nonlinear solve.  Once you know $S_{wf}$, you can truncate the full saturation profile to plot the correct solution.  I've implemented a function `plot_saturation_front(t)`, where $t$ is the time at which you will generate the profile.  A plot for the the non dimensionalized time $t=0.25$ as created with this function is shown.\n",
    "\n",
    "![img](images/saturation_profile.png)\n",
    "\n",
    "You can use the plotting functions to help make sense of your solution.  The value of the saturation front at different times will be tested."
   ]
  },
  {
   "cell_type": "code",
   "execution_count": 5,
   "metadata": {
    "tags": []
   },
   "outputs": [],
   "source": [
    "import numpy as np\n",
    "import scipy.optimize\n",
    "import matplotlib.pyplot as plt\n",
    "import yaml\n",
    "\n",
    "class BuckleyLeverett(object):\n",
    "    \n",
    "    def __init__(self, inputs):\n",
    "        \n",
    "        if isinstance(inputs, str):\n",
    "            with open(inputs) as f:\n",
    "                self.inputs = yaml.load(f, Loader=yaml.FullLoader)\n",
    "        else:\n",
    "            self.inputs = inputs\n",
    "            \n",
    "        self.Sor = self.inputs['reservoir']['oil']['residual saturation']\n",
    "        self.Swc = self.inputs['reservoir']['water']['critical saturation']\n",
    "        self.nw = self.inputs['reservoir']['water']['corey-brooks exponent']\n",
    "        self.no = self.inputs['reservoir']['oil']['corey-brooks exponent']\n",
    "        self.krw_max = self.inputs['reservoir']['water']['max relative permeability']\n",
    "        self.kro_max = self.inputs['reservoir']['oil']['max relative permeability']\n",
    "        \n",
    "        self.mu_o = self.inputs['fluid']['oil']['viscosity']\n",
    "        self.mu_w = self.inputs['fluid']['water']['viscosity']\n",
    "        \n",
    "        self.Swi = self.inputs['initial conditions']['water saturation']\n",
    "        \n",
    "        self.step = 0.01\n",
    "    \n",
    "    def water_rel_perm(self, S):\n",
    "        return self.krw_max * ((S - self.Swc) / (1 - self.Sor - self.Swc)) ** self.nw\n",
    "    \n",
    "    def d_water_rel_perm_dS(self, S):\n",
    "        return self.nw * self.krw_max * ((- S + self.Swc) / (-1 + self.Sor + self.Swc)) ** self.nw / (S - self.Swc)\n",
    "    \n",
    "    def oil_rel_perm(self, S):\n",
    "        return self.kro_max * (((1 - S) - self.Sor) / (1 - self.Sor - self.Swc)) ** self.no\n",
    "    \n",
    "    def d_oil_rel_perm_dS(self, S):\n",
    "        return self.no * self.kro_max * ((-1 + S + self.Sor) / (-1 + self.Swc + self.Sor)) ** self.no / (-1 + S + self.Sor)\n",
    "    \n",
    "    def fractional_flow(self, S):\n",
    "        krw = self.water_rel_perm(S)\n",
    "        kro = self.oil_rel_perm(S)\n",
    "        return (krw / self.mu_w) / (krw / self.mu_w + kro / self.mu_o)\n",
    "    \n",
    "    def d_fractional_flow_dkrw(self, S):\n",
    "        \n",
    "        kro = self.oil_rel_perm(S)\n",
    "        krw = self.water_rel_perm(S)\n",
    "        mu_o = self.mu_o\n",
    "        mu_w = self.mu_w\n",
    "        \n",
    "        return kro * mu_o * mu_w / (krw * mu_o + kro * mu_w) ** 2.0\n",
    "    \n",
    "    def d_fractional_flow_dkro(self, S):\n",
    "        \n",
    "        kro = self.oil_rel_perm(S)\n",
    "        krw = self.water_rel_perm(S)\n",
    "        mu_o = self.mu_o\n",
    "        mu_w = self.mu_w\n",
    "        \n",
    "        return -krw * mu_o * mu_w / (krw * mu_o + kro * mu_w) ** 2.0\n",
    "    \n",
    "    def d_fractional_flow_dS(self, S):\n",
    "        \n",
    "        df_dkro = self.d_fractional_flow_dkro(S)\n",
    "        df_dkrw = self.d_fractional_flow_dkrw(S)\n",
    "        \n",
    "        dkro_dS = self.d_oil_rel_perm_dS(S)\n",
    "        dkrw_dS = self.d_water_rel_perm_dS(S)\n",
    "        \n",
    "        return df_dkro * dkro_dS + df_dkrw * dkrw_dS\n",
    "    \n",
    "    def compute_saturation_front(self):\n",
    "        \n",
    "        #Add you implimentation here.\n",
    "        f = lambda Swf: self.fractional_flow(Swf) / (Swf - self.Swi) - self.d_fractional_flow_dS(Swf)\n",
    "        \n",
    "        \n",
    "        return scipy.optimize.brenth(f, 0.0, 1.0) #return Swf\n",
    "    \n",
    "    def compute_saturation_profile(self):\n",
    "        \n",
    "        Swi = self.inputs['initial conditions']['water saturation']\n",
    "        \n",
    "        S = np.arange(self.Swi + self.step, (1 - self.Swc), self.step)\n",
    "        \n",
    "        x = self.d_fractional_flow_dS(S)\n",
    "        \n",
    "        return (x, S)\n",
    "    \n",
    "    def plot_fractional_flow(self):\n",
    "        \n",
    "        S = np.arange(self.Swi + self.step, (1-self.Swc), self.step)\n",
    "        \n",
    "        f = self.fractional_flow(S)\n",
    "        \n",
    "        plt.plot(S, f)\n",
    "        plt.xlabel('$S_w$')\n",
    "        plt.ylabel('$f$')\n",
    "    \n",
    "    def plot_full_saturation_profile(self):\n",
    "        \n",
    "        x, S = self.compute_saturation_profile()\n",
    "        \n",
    "        plt.plot(x, S)\n",
    "        plt.ylabel('$S_w$')\n",
    "        plt.xlabel('$x$')\n",
    "        \n",
    "    def plot_saturation_profile(self, t):\n",
    "        \n",
    "        x, S = self.compute_saturation_profile()\n",
    "        \n",
    "        Swf = self.compute_saturation_front()\n",
    "        \n",
    "        S1 = S[S > Swf]\n",
    "        x1 = x[S > Swf] * t\n",
    "        \n",
    "        xD = self.d_fractional_flow_dS(Swf) * t\n",
    "        \n",
    "        S = np.concatenate((S1[::-1], np.array([Swf, self.Swi]), np.array([self.Swi])))\n",
    "        x = np.concatenate((x1[::-1], np.array([xD, xD]), np.array([1.0])))\n",
    "        \n",
    "        plt.plot(x, S)\n",
    "        plt.xlabel(r'$x$')\n",
    "        plt.ylabel(r'$S_w$')"
   ]
  },
  {
   "cell_type": "code",
   "execution_count": 6,
   "metadata": {},
   "outputs": [
    {
     "data": {
      "image/png": "[encoded data removed]",
      "text/plain": [
       "<Figure size 432x288 with 1 Axes>"
      ]
     },
     "metadata": {
      "needs_background": "light"
     },
     "output_type": "display_data"
    }
   ],
   "source": [
    "#Uncomment the following lines for viewing the plot\n",
    "# %matplotlib inline\n",
    "# pr = BuckleyLeverett('inputs.yml')\n",
    "# pr.plot_saturation_profile(0.25)"
   ]
  },
  {
   "cell_type": "code",
   "execution_count": 7,
   "metadata": {
    "tags": []
   },
   "outputs": [
    {
     "data": {
      "application/vnd.jupyter.widget-view+json": {
       "model_id": "83cea3a84bb946f4a967eabb27ce4950",
       "version_major": 2,
       "version_minor": 0
      },
      "text/plain": [
       "interactive(children=(FloatSlider(value=0.0, description='t', max=0.44, step=0.001), Output()), _dom_classes=(…"
      ]
     },
     "metadata": {},
     "output_type": "display_data"
    }
   ],
   "source": [
    "#If you want, uncomment the following lines to produce an interative plot.\n",
    "# from ipywidgets import interact\n",
    "# @interact(t=(0,0.44,0.001))\n",
    "# def iplot(t=0):\n",
    "#    return pr.plot_saturation_profile(t)"
   ]
  },
  {
   "cell_type": "code",
   "execution_count": null,
   "metadata": {},
   "outputs": [],
   "source": []
  }
 ],
 "metadata": {
  "kernelspec": {
   "display_name": "Python 3 (ipykernel)",
   "language": "python",
   "name": "python3"
  },
  "language_info": {
   "codemirror_mode": {
    "name": "ipython",
    "version": 3
   },
   "file_extension": ".py",
   "mimetype": "text/x-python",
   "name": "python",
   "nbconvert_exporter": "python",
   "pygments_lexer": "ipython3",
   "version": "3.9.12"
  }
 },
 "nbformat": 4,
 "nbformat_minor": 4
}
